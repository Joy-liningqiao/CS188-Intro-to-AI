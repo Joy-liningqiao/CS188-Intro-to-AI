{
 "cells": [
  {
   "cell_type": "code",
   "execution_count": 29,
   "metadata": {},
   "outputs": [
    {
     "name": "stdout",
     "output_type": "stream",
     "text": [
      "Dist between (1, 2) and (1, 2) is 0\n",
      "Dist between (1, 2) and (2, 3) is 2\n",
      "Dist between (1, 2) and (3, 4) is 4\n",
      "Dist between (2, 3) and (2, 3) is 0\n",
      "Dist between (2, 3) and (3, 4) is 2\n",
      "Dist between (3, 4) and (3, 4) is 0\n",
      "[0, 2, 4, 0, 2, 0]\n"
     ]
    }
   ],
   "source": [
    "manhattan = lambda x1, y1, x2, y2: abs(x1 - x2) + abs(y1 - y2)\n",
    "x=[(1,2), (2,3), (3,4)]\n",
    "y=[]\n",
    "\n",
    "for i in x:\n",
    "    k=x.index(i)\n",
    "#     for j in (j for x in x[k:] if j !=i):\n",
    "    for j in x[k:]:\n",
    "        if i!=j:\n",
    "            x1,y1 =i\n",
    "            x2, y2=j\n",
    "            d=manhattan(x1,y1,x2,y2)\n",
    "            print(\"Dist between {0} and {1} is {2}\".format(i, j, d))\n",
    "            y.append(d)\n",
    "    \n",
    "        \n",
    "print(y)"
   ]
  },
  {
   "cell_type": "code",
   "execution_count": null,
   "metadata": {},
   "outputs": [],
   "source": []
  }
 ],
 "metadata": {
  "kernelspec": {
   "display_name": "Python 3",
   "language": "python",
   "name": "python3"
  },
  "language_info": {
   "codemirror_mode": {
    "name": "ipython",
    "version": 3
   },
   "file_extension": ".py",
   "mimetype": "text/x-python",
   "name": "python",
   "nbconvert_exporter": "python",
   "pygments_lexer": "ipython3",
   "version": "3.7.0"
  }
 },
 "nbformat": 4,
 "nbformat_minor": 2
}
